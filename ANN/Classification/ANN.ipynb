{
 "cells": [
  {
   "cell_type": "code",
   "execution_count": 40,
   "metadata": {},
   "outputs": [],
   "source": [
    "import tensorflow as tf\n",
    "import pandas as pd\n",
    "import numpy as np\n",
    "from sklearn.compose import ColumnTransformer\n",
    "from sklearn.preprocessing import OneHotEncoder, LabelEncoder\n",
    "from sklearn.model_selection import train_test_split\n",
    "from sklearn.preprocessing import StandardScaler\n",
    "from sklearn.metrics import confusion_matrix, accuracy_score"
   ]
  },
  {
   "cell_type": "markdown",
   "metadata": {},
   "source": [
    "# **Part 1 - Data Preprocessing**"
   ]
  },
  {
   "cell_type": "code",
   "execution_count": 8,
   "metadata": {},
   "outputs": [],
   "source": [
    "data = pd.read_csv('Churn_Modelling.csv')\n",
    "\n",
    "# Eliminamos las columnas no importantes para el modelo son el RowNumber, CustomerId y el Surname\n",
    "data = data[['CreditScore', 'Geography', 'Gender', 'Age', 'Tenure', 'Balance', 'NumOfProducts', 'HasCrCard', 'IsActiveMember', 'EstimatedSalary', 'Exited']]\n",
    "\n",
    "# Generamos la matriz de las variables independientes y el vector con los valores dependientes objetivo\n",
    "X = data.iloc[:, :-1].values\n",
    "Y = data.iloc[:, -1].values"
   ]
  },
  {
   "cell_type": "markdown",
   "metadata": {},
   "source": [
    "### **Encoding Categorical Data**\n",
    "\n",
    "Se transforman las variables categoricas en numericas para que sean legibles por el modelo"
   ]
  },
  {
   "cell_type": "code",
   "execution_count": 14,
   "metadata": {},
   "outputs": [],
   "source": [
    "# Utilizamos LabelEncoder para transformar la columna Gender en numérica\n",
    "le = LabelEncoder()\n",
    "X[:, 2] = le.fit_transform(X[:, 2])"
   ]
  },
  {
   "cell_type": "code",
   "execution_count": 16,
   "metadata": {},
   "outputs": [],
   "source": [
    "# Utilizamos One Hot Encoding para transformar la variable pais en numérica\n",
    "ct = ColumnTransformer(transformers = [('encoder', OneHotEncoder(), [1])], remainder = 'passthrough')\n",
    "X = np.array(ct.fit_transform(X))"
   ]
  },
  {
   "cell_type": "markdown",
   "metadata": {},
   "source": [
    "### **Split the data into training and test**\n",
    "\n",
    "Dividimos la matriz de variables independientes X y la matriz objetivo Y en una matriz de entrenamiento y una de test"
   ]
  },
  {
   "cell_type": "code",
   "execution_count": 20,
   "metadata": {},
   "outputs": [],
   "source": [
    "X_train, X_test, Y_train, Y_test = train_test_split(X, Y, test_size = 0.2, random_state = 0)"
   ]
  },
  {
   "cell_type": "markdown",
   "metadata": {},
   "source": [
    "### **Feature Scaling**\n",
    "\n",
    "Normalizamos las variables de Train y Test"
   ]
  },
  {
   "cell_type": "code",
   "execution_count": 22,
   "metadata": {},
   "outputs": [],
   "source": [
    "sc = StandardScaler()\n",
    "X_train = sc.fit_transform(X_train)\n",
    "X_test = sc.fit_transform(X_test)"
   ]
  },
  {
   "cell_type": "markdown",
   "metadata": {},
   "source": [
    "# **Part 2 - Build the Artificial Neural Network**"
   ]
  },
  {
   "cell_type": "markdown",
   "metadata": {},
   "source": [
    "### **Initializing the ANN**\n",
    "\n",
    "Inicializamos la Red Neuronal"
   ]
  },
  {
   "cell_type": "code",
   "execution_count": 24,
   "metadata": {},
   "outputs": [],
   "source": [
    "ann = tf.keras.models.Sequential()"
   ]
  },
  {
   "cell_type": "markdown",
   "metadata": {},
   "source": [
    "### **Input and First Layer**\n",
    "\n",
    "Add the input layer and the first layer"
   ]
  },
  {
   "cell_type": "code",
   "execution_count": 25,
   "metadata": {},
   "outputs": [],
   "source": [
    "# Las variables a añadir a la capa input Dense es units: numero de neuronas (al ser input layer son el numero de features del modelo), activation: que funcion de activacion vamos a utilizar en este caso relu\n",
    "ann.add(tf.keras.layers.Dense(units = 6, activation = 'relu'))"
   ]
  },
  {
   "cell_type": "markdown",
   "metadata": {},
   "source": [
    "### **Second Layer**"
   ]
  },
  {
   "cell_type": "code",
   "execution_count": 27,
   "metadata": {},
   "outputs": [],
   "source": [
    "# El numero de neuronas es elegido de forma aleatoria y optimizado una vez ejecutado el programa\n",
    "ann.add(tf.keras.layers.Dense(units = 6, activation = 'relu'))"
   ]
  },
  {
   "cell_type": "markdown",
   "metadata": {},
   "source": [
    "### **Output Layer**"
   ]
  },
  {
   "cell_type": "code",
   "execution_count": 28,
   "metadata": {},
   "outputs": [],
   "source": [
    "# En este caso es 1 al ser una variable binaria, si fuera un resultado categorico con 3 posibles resultados habria que hacer OneHotEncoding a esos resultados y en número de unidades especificar 3\n",
    "# Al ser un resultado binario la funcion de activacion sera sigmoid  \n",
    "ann.add(tf.keras.layers.Dense(units = 1, activation = 'sigmoid'))"
   ]
  },
  {
   "cell_type": "markdown",
   "metadata": {},
   "source": [
    "# **Part 3 - Training the ANN**"
   ]
  },
  {
   "cell_type": "code",
   "execution_count": 29,
   "metadata": {},
   "outputs": [],
   "source": [
    "# Compilamos la Red Neuronal\n",
    "# La mejor loss function para binary clasification es binary crossentropy para non binary clasification debe ser softmax\n",
    "ann.compile(optimizer = 'adam', loss = 'binary_crossentropy', metrics = ['accuracy'])"
   ]
  },
  {
   "cell_type": "markdown",
   "metadata": {},
   "source": [
    "### **Training the ANN**"
   ]
  },
  {
   "cell_type": "code",
   "execution_count": 30,
   "metadata": {},
   "outputs": [
    {
     "name": "stdout",
     "output_type": "stream",
     "text": [
      "Epoch 1/100\n",
      "250/250 [==============================] - 1s 803us/step - loss: 0.8615 - accuracy: 0.3767\n",
      "Epoch 2/100\n",
      "250/250 [==============================] - 0s 802us/step - loss: 0.5299 - accuracy: 0.7794\n",
      "Epoch 3/100\n",
      "250/250 [==============================] - 0s 803us/step - loss: 0.4657 - accuracy: 0.7965\n",
      "Epoch 4/100\n",
      "250/250 [==============================] - 0s 1ms/step - loss: 0.4339 - accuracy: 0.8107\n",
      "Epoch 5/100\n",
      "250/250 [==============================] - 0s 803us/step - loss: 0.4190 - accuracy: 0.8193\n",
      "Epoch 6/100\n",
      "250/250 [==============================] - 0s 762us/step - loss: 0.3977 - accuracy: 0.8300\n",
      "Epoch 7/100\n",
      "250/250 [==============================] - 0s 883us/step - loss: 0.3899 - accuracy: 0.8367\n",
      "Epoch 8/100\n",
      "250/250 [==============================] - 0s 836us/step - loss: 0.3760 - accuracy: 0.8396\n",
      "Epoch 9/100\n",
      "250/250 [==============================] - 0s 717us/step - loss: 0.3661 - accuracy: 0.8489\n",
      "Epoch 10/100\n",
      "250/250 [==============================] - 0s 816us/step - loss: 0.3704 - accuracy: 0.8450\n",
      "Epoch 11/100\n",
      "250/250 [==============================] - 0s 722us/step - loss: 0.3502 - accuracy: 0.8518\n",
      "Epoch 12/100\n",
      "250/250 [==============================] - 0s 885us/step - loss: 0.3387 - accuracy: 0.8598\n",
      "Epoch 13/100\n",
      "250/250 [==============================] - 0s 803us/step - loss: 0.3575 - accuracy: 0.8467\n",
      "Epoch 14/100\n",
      "250/250 [==============================] - 0s 803us/step - loss: 0.3534 - accuracy: 0.8467\n",
      "Epoch 15/100\n",
      "250/250 [==============================] - 0s 842us/step - loss: 0.3554 - accuracy: 0.8492\n",
      "Epoch 16/100\n",
      "250/250 [==============================] - 0s 804us/step - loss: 0.3475 - accuracy: 0.8524\n",
      "Epoch 17/100\n",
      "250/250 [==============================] - 0s 803us/step - loss: 0.3463 - accuracy: 0.8548\n",
      "Epoch 18/100\n",
      "250/250 [==============================] - 0s 803us/step - loss: 0.3490 - accuracy: 0.8485\n",
      "Epoch 19/100\n",
      "250/250 [==============================] - 0s 843us/step - loss: 0.3400 - accuracy: 0.85610s - loss: 0.3375 - accuracy: 0.85\n",
      "Epoch 20/100\n",
      "250/250 [==============================] - 0s 764us/step - loss: 0.3473 - accuracy: 0.85120s - loss: 0.3505 - accuracy: 0.\n",
      "Epoch 21/100\n",
      "250/250 [==============================] - 0s 804us/step - loss: 0.3409 - accuracy: 0.8570\n",
      "Epoch 22/100\n",
      "250/250 [==============================] - 0s 803us/step - loss: 0.3481 - accuracy: 0.8510\n",
      "Epoch 23/100\n",
      "250/250 [==============================] - 0s 884us/step - loss: 0.3496 - accuracy: 0.8556\n",
      "Epoch 24/100\n",
      "250/250 [==============================] - 0s 912us/step - loss: 0.3299 - accuracy: 0.8647\n",
      "Epoch 25/100\n",
      "250/250 [==============================] - 0s 763us/step - loss: 0.3343 - accuracy: 0.8597\n",
      "Epoch 26/100\n",
      "250/250 [==============================] - 0s 724us/step - loss: 0.3374 - accuracy: 0.8615\n",
      "Epoch 27/100\n",
      "250/250 [==============================] - 0s 983us/step - loss: 0.3378 - accuracy: 0.8617\n",
      "Epoch 28/100\n",
      "250/250 [==============================] - 0s 784us/step - loss: 0.3404 - accuracy: 0.8607\n",
      "Epoch 29/100\n",
      "250/250 [==============================] - 0s 761us/step - loss: 0.3280 - accuracy: 0.8639\n",
      "Epoch 30/100\n",
      "250/250 [==============================] - 0s 1ms/step - loss: 0.3375 - accuracy: 0.8581\n",
      "Epoch 31/100\n",
      "250/250 [==============================] - 0s 1ms/step - loss: 0.3419 - accuracy: 0.8600\n",
      "Epoch 32/100\n",
      "250/250 [==============================] - 0s 1ms/step - loss: 0.3291 - accuracy: 0.8661\n",
      "Epoch 33/100\n",
      "250/250 [==============================] - 0s 1ms/step - loss: 0.3463 - accuracy: 0.8587\n",
      "Epoch 34/100\n",
      "250/250 [==============================] - 0s 963us/step - loss: 0.3495 - accuracy: 0.8539\n",
      "Epoch 35/100\n",
      "250/250 [==============================] - 0s 803us/step - loss: 0.3298 - accuracy: 0.8623\n",
      "Epoch 36/100\n",
      "250/250 [==============================] - 0s 1ms/step - loss: 0.3400 - accuracy: 0.8564\n",
      "Epoch 37/100\n",
      "250/250 [==============================] - 0s 845us/step - loss: 0.3396 - accuracy: 0.8596\n",
      "Epoch 38/100\n",
      "250/250 [==============================] - 0s 1ms/step - loss: 0.3377 - accuracy: 0.8592\n",
      "Epoch 39/100\n",
      "250/250 [==============================] - 0s 837us/step - loss: 0.3394 - accuracy: 0.8585\n",
      "Epoch 40/100\n",
      "250/250 [==============================] - 0s 1ms/step - loss: 0.3344 - accuracy: 0.8601\n",
      "Epoch 41/100\n",
      "250/250 [==============================] - 0s 804us/step - loss: 0.3283 - accuracy: 0.8656\n",
      "Epoch 42/100\n",
      "250/250 [==============================] - 0s 924us/step - loss: 0.3197 - accuracy: 0.8703\n",
      "Epoch 43/100\n",
      "250/250 [==============================] - 0s 1ms/step - loss: 0.3225 - accuracy: 0.8664\n",
      "Epoch 44/100\n",
      "250/250 [==============================] - 0s 831us/step - loss: 0.3366 - accuracy: 0.8588\n",
      "Epoch 45/100\n",
      "250/250 [==============================] - 0s 944us/step - loss: 0.3231 - accuracy: 0.8688\n",
      "Epoch 46/100\n",
      "250/250 [==============================] - 0s 842us/step - loss: 0.3464 - accuracy: 0.8571\n",
      "Epoch 47/100\n",
      "250/250 [==============================] - 0s 764us/step - loss: 0.3290 - accuracy: 0.8637\n",
      "Epoch 48/100\n",
      "250/250 [==============================] - 0s 844us/step - loss: 0.3364 - accuracy: 0.8562\n",
      "Epoch 49/100\n",
      "250/250 [==============================] - 0s 924us/step - loss: 0.3350 - accuracy: 0.8609\n",
      "Epoch 50/100\n",
      "250/250 [==============================] - 0s 922us/step - loss: 0.3294 - accuracy: 0.8626\n",
      "Epoch 51/100\n",
      "250/250 [==============================] - 0s 904us/step - loss: 0.3248 - accuracy: 0.8637\n",
      "Epoch 52/100\n",
      "250/250 [==============================] - 0s 1ms/step - loss: 0.3287 - accuracy: 0.8595\n",
      "Epoch 53/100\n",
      "250/250 [==============================] - 0s 802us/step - loss: 0.3326 - accuracy: 0.8598\n",
      "Epoch 54/100\n",
      "250/250 [==============================] - 0s 864us/step - loss: 0.3334 - accuracy: 0.8644\n",
      "Epoch 55/100\n",
      "250/250 [==============================] - 0s 1ms/step - loss: 0.3369 - accuracy: 0.8587\n",
      "Epoch 56/100\n",
      "250/250 [==============================] - 0s 800us/step - loss: 0.3299 - accuracy: 0.8649\n",
      "Epoch 57/100\n",
      "250/250 [==============================] - 0s 839us/step - loss: 0.3331 - accuracy: 0.8637\n",
      "Epoch 58/100\n",
      "250/250 [==============================] - 0s 843us/step - loss: 0.3318 - accuracy: 0.8620\n",
      "Epoch 59/100\n",
      "250/250 [==============================] - 0s 832us/step - loss: 0.3340 - accuracy: 0.8632\n",
      "Epoch 60/100\n",
      "250/250 [==============================] - 0s 759us/step - loss: 0.3221 - accuracy: 0.8688\n",
      "Epoch 61/100\n",
      "250/250 [==============================] - 0s 843us/step - loss: 0.3273 - accuracy: 0.8654\n",
      "Epoch 62/100\n",
      "250/250 [==============================] - 0s 924us/step - loss: 0.3200 - accuracy: 0.8680\n",
      "Epoch 63/100\n",
      "250/250 [==============================] - 0s 925us/step - loss: 0.3278 - accuracy: 0.8653\n",
      "Epoch 64/100\n",
      "250/250 [==============================] - 0s 921us/step - loss: 0.3413 - accuracy: 0.8577\n",
      "Epoch 65/100\n",
      "250/250 [==============================] - 0s 1ms/step - loss: 0.3319 - accuracy: 0.8652\n",
      "Epoch 66/100\n",
      "250/250 [==============================] - 0s 1ms/step - loss: 0.3288 - accuracy: 0.8648\n",
      "Epoch 67/100\n",
      "250/250 [==============================] - 0s 965us/step - loss: 0.3191 - accuracy: 0.8704\n",
      "Epoch 68/100\n",
      "250/250 [==============================] - 0s 796us/step - loss: 0.3433 - accuracy: 0.8547\n",
      "Epoch 69/100\n",
      "250/250 [==============================] - 0s 1ms/step - loss: 0.3359 - accuracy: 0.8639\n",
      "Epoch 70/100\n",
      "250/250 [==============================] - 0s 843us/step - loss: 0.3394 - accuracy: 0.8575\n",
      "Epoch 71/100\n",
      "250/250 [==============================] - 0s 802us/step - loss: 0.3316 - accuracy: 0.8608\n",
      "Epoch 72/100\n",
      "250/250 [==============================] - 0s 865us/step - loss: 0.3227 - accuracy: 0.8741\n",
      "Epoch 73/100\n",
      "250/250 [==============================] - 0s 804us/step - loss: 0.3345 - accuracy: 0.8673\n",
      "Epoch 74/100\n",
      "250/250 [==============================] - 0s 964us/step - loss: 0.3224 - accuracy: 0.8681\n",
      "Epoch 75/100\n",
      "250/250 [==============================] - 0s 962us/step - loss: 0.3284 - accuracy: 0.8632\n",
      "Epoch 76/100\n",
      "250/250 [==============================] - 0s 851us/step - loss: 0.3341 - accuracy: 0.8642\n",
      "Epoch 77/100\n",
      "250/250 [==============================] - 0s 866us/step - loss: 0.3348 - accuracy: 0.8609\n",
      "Epoch 78/100\n",
      "250/250 [==============================] - 0s 851us/step - loss: 0.3209 - accuracy: 0.8720\n",
      "Epoch 79/100\n",
      "250/250 [==============================] - 0s 908us/step - loss: 0.3320 - accuracy: 0.8664\n",
      "Epoch 80/100\n",
      "250/250 [==============================] - 0s 1ms/step - loss: 0.3250 - accuracy: 0.8653\n",
      "Epoch 81/100\n",
      "250/250 [==============================] - 0s 1ms/step - loss: 0.3317 - accuracy: 0.8631\n",
      "Epoch 82/100\n",
      "250/250 [==============================] - 0s 802us/step - loss: 0.3325 - accuracy: 0.8643\n",
      "Epoch 83/100\n",
      "250/250 [==============================] - 0s 804us/step - loss: 0.3329 - accuracy: 0.8638\n",
      "Epoch 84/100\n",
      "250/250 [==============================] - 0s 1ms/step - loss: 0.3325 - accuracy: 0.8623\n",
      "Epoch 85/100\n",
      "250/250 [==============================] - 0s 868us/step - loss: 0.3323 - accuracy: 0.8625\n",
      "Epoch 86/100\n",
      "250/250 [==============================] - 0s 1ms/step - loss: 0.3407 - accuracy: 0.8612\n",
      "Epoch 87/100\n",
      "250/250 [==============================] - 0s 803us/step - loss: 0.3322 - accuracy: 0.8641\n",
      "Epoch 88/100\n",
      "250/250 [==============================] - 0s 879us/step - loss: 0.3138 - accuracy: 0.8730\n",
      "Epoch 89/100\n",
      "250/250 [==============================] - 0s 923us/step - loss: 0.3277 - accuracy: 0.8664\n",
      "Epoch 90/100\n",
      "250/250 [==============================] - 0s 923us/step - loss: 0.3306 - accuracy: 0.8631\n",
      "Epoch 91/100\n",
      "250/250 [==============================] - 0s 964us/step - loss: 0.3284 - accuracy: 0.8683\n",
      "Epoch 92/100\n",
      "250/250 [==============================] - 0s 923us/step - loss: 0.3435 - accuracy: 0.8563\n",
      "Epoch 93/100\n",
      "250/250 [==============================] - 0s 844us/step - loss: 0.3223 - accuracy: 0.8683\n",
      "Epoch 94/100\n",
      "250/250 [==============================] - 0s 1ms/step - loss: 0.3402 - accuracy: 0.8604\n",
      "Epoch 95/100\n",
      "250/250 [==============================] - 0s 1ms/step - loss: 0.3224 - accuracy: 0.8701\n",
      "Epoch 96/100\n",
      "250/250 [==============================] - 0s 844us/step - loss: 0.3250 - accuracy: 0.8656\n",
      "Epoch 97/100\n",
      "250/250 [==============================] - 0s 892us/step - loss: 0.3283 - accuracy: 0.8686\n",
      "Epoch 98/100\n",
      "250/250 [==============================] - 0s 827us/step - loss: 0.3239 - accuracy: 0.8674\n",
      "Epoch 99/100\n",
      "250/250 [==============================] - 0s 1ms/step - loss: 0.3371 - accuracy: 0.8620\n",
      "Epoch 100/100\n",
      "250/250 [==============================] - 0s 963us/step - loss: 0.3396 - accuracy: 0.8602\n"
     ]
    },
    {
     "data": {
      "text/plain": [
       "<tensorflow.python.keras.callbacks.History at 0x14b2c640880>"
      ]
     },
     "execution_count": 30,
     "metadata": {},
     "output_type": "execute_result"
    }
   ],
   "source": [
    "ann.fit(X_train, Y_train, batch_size = 32, epochs = 100)"
   ]
  },
  {
   "cell_type": "markdown",
   "metadata": {},
   "source": [
    "# **Part 4 - Making Predictions and Evaluating the Model**"
   ]
  },
  {
   "cell_type": "code",
   "execution_count": 37,
   "metadata": {},
   "outputs": [
    {
     "data": {
      "text/plain": [
       "array([[0.06326926]], dtype=float32)"
      ]
     },
     "execution_count": 37,
     "metadata": {},
     "output_type": "execute_result"
    }
   ],
   "source": [
    "# Debemos de aplicar StandardScaler para asegurar los datos son iguales que los de entranamiento\n",
    "ann.predict(sc.transform([[1, 0, 0, 600, 1, 40, 3, 60000,2, 1, 1, 50000]]))"
   ]
  },
  {
   "cell_type": "markdown",
   "metadata": {},
   "source": [
    "### **Predicting the test results**\n",
    "\n",
    "Comprobamos como de bueno es nuestro modelo prediciendo los valores de test y comprobando el error con los originales"
   ]
  },
  {
   "cell_type": "code",
   "execution_count": 38,
   "metadata": {},
   "outputs": [],
   "source": [
    "Y_pred = ann.predict(X_test)\n",
    "y_pred = (Y_pred > 0.5)"
   ]
  },
  {
   "cell_type": "code",
   "execution_count": 42,
   "metadata": {},
   "outputs": [
    {
     "name": "stdout",
     "output_type": "stream",
     "text": [
      "[[1545   50]\n",
      " [ 292  113]]\n"
     ]
    },
    {
     "data": {
      "text/plain": [
       "0.829"
      ]
     },
     "execution_count": 42,
     "metadata": {},
     "output_type": "execute_result"
    }
   ],
   "source": [
    "## Utilizamos Confusion Matrix para comprobar como de buena es nuestra predicción\n",
    "\n",
    "cm = confusion_matrix(Y_test, y_pred)\n",
    "print(cm)\n",
    "accuracy_score(Y_test, y_pred)"
   ]
  }
 ],
 "metadata": {
  "kernelspec": {
   "display_name": "Python [conda env:training]",
   "language": "python",
   "name": "conda-env-training-py"
  },
  "language_info": {
   "codemirror_mode": {
    "name": "ipython",
    "version": 3
   },
   "file_extension": ".py",
   "mimetype": "text/x-python",
   "name": "python",
   "nbconvert_exporter": "python",
   "pygments_lexer": "ipython3",
   "version": "3.8.5"
  }
 },
 "nbformat": 4,
 "nbformat_minor": 4
}
